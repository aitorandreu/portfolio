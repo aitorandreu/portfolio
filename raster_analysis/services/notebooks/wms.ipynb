{
 "cells": [
  {
   "cell_type": "markdown",
   "metadata": {},
   "source": [
    "# Orthophoto Processing with WMS Services"
   ]
  },
  {
   "cell_type": "markdown",
   "metadata": {},
   "source": [
    "This notebook aims to access the most up-to-date orthophoto (year 2024) of the Basque Country through a WMS (Web Map Service), process the image to match the required spatial resolution, and generate a single RGB raster for the study area.\n",
    "\n",
    "The workflow is divided into the following main steps:\n",
    "\n",
    "1. **Dividing the study area into tiles**: The study area is divided into smaller tiles with a specified resolution and size. This step ensures efficient data handling and processing by breaking the larger area into manageable fragments.\n",
    "\n",
    "2. **Connecting to the WMS and downloading tiles**: A connection to the WMS service is established to retrieve the orthophoto for the specified tiles. Each tile is downloaded as an RGB image in GeoTIFF format, preserving visual quality and geospatial metadata.\n",
    "\n",
    "3. **Creating the final raster**: The downloaded tiles are merged to produce a single RGB raster that covers the entire extent of the study area. The final raster maintains the desired spatial resolution and is ready for subsequent analysis.\n",
    "\n",
    "This approach ensures efficient geospatial data processing while maintaining the quality and precision required for geographic analysis."
   ]
  },
  {
   "cell_type": "markdown",
   "metadata": {},
   "source": [
    "## 1. Read in the geojson file and split the study area in smaller tiles"
   ]
  },
  {
   "cell_type": "code",
   "execution_count": 1,
   "metadata": {},
   "outputs": [],
   "source": [
    "# Import libraries\n",
    "from owslib.wms import WebMapService\n",
    "import parameters\n",
    "import geopandas as gpd\n",
    "import rasterio\n",
    "from rasterio.crs import CRS\n",
    "import os\n",
    "from rasterio.transform import from_bounds\n",
    "import numpy as np\n",
    "import matplotlib.pyplot as plt\n",
    "from shapely.geometry import box\n",
    "import math\n",
    "from rasterio.io import MemoryFile\n",
    "from rasterio.merge import merge"
   ]
  },
  {
   "cell_type": "code",
   "execution_count": 2,
   "metadata": {},
   "outputs": [],
   "source": [
    "# Create raster folder (if not created yet)\n",
    "if not os.path.exists(parameters.output_dir):\n",
    "    os.makedirs(parameters.output_dir)"
   ]
  },
  {
   "cell_type": "code",
   "execution_count": 3,
   "metadata": {},
   "outputs": [],
   "source": [
    "# Read the file as a geodataframe\n",
    "polygon = gpd.read_file(parameters.input_file)"
   ]
  },
  {
   "cell_type": "code",
   "execution_count": 4,
   "metadata": {},
   "outputs": [],
   "source": [
    "# Bounding boxes of the polygon\n",
    "minx, miny, maxx, maxy = polygon.total_bounds\n",
    "\n",
    "bbox = (minx, miny, maxx, maxy)"
   ]
  },
  {
   "cell_type": "markdown",
   "metadata": {},
   "source": [
    "In the next cell we determine that the spatial resolution must be **2 meters** and that the maximum download size is **16.000 pixels (4.000x4.000)**. These values ​​are used because this resolution may be adequate to perform a change analysis (a common task when working with orthophotos or satellite images, for example) and pixel values ​​greater than 4.000x4.000 can saturate the service."
   ]
  },
  {
   "cell_type": "code",
   "execution_count": 5,
   "metadata": {},
   "outputs": [],
   "source": [
    "# Spatial resolution\n",
    "spatial_resolution = 2\n",
    "\n",
    "# Maximun width and height\n",
    "max_size = 4000"
   ]
  },
  {
   "cell_type": "markdown",
   "metadata": {},
   "source": [
    "Taking into consideration  the spatial resolution and maximun sizes described above, we'll split the study area in smaller tiles."
   ]
  },
  {
   "cell_type": "code",
   "execution_count": 6,
   "metadata": {},
   "outputs": [],
   "source": [
    "# Split bbox in smaller tiles\n",
    "def split_bbox(bbox, resolution, max_size):\n",
    "    # How many tiles we need with the resolution and sizes provided\n",
    "    width_total = bbox[2] - bbox[0]\n",
    "    height_total = bbox[3] - bbox[1]\n",
    "\n",
    "    num_tiles_x = math.ceil(width_total / (max_size * resolution))\n",
    "    num_tiles_y = math.ceil(height_total / (max_size * resolution))\n",
    "\n",
    "    # Bbox for each tile\n",
    "    tiles = []\n",
    "    tile_width = width_total / num_tiles_x\n",
    "    tile_height = height_total / num_tiles_y\n",
    "\n",
    "    for i in range(num_tiles_x):\n",
    "        for j in range(num_tiles_y):\n",
    "            minx = bbox[0] + i * tile_width\n",
    "            maxx = minx + tile_width\n",
    "            miny = bbox[1] + j * tile_height\n",
    "            maxy = miny + tile_height\n",
    "            tiles.append((minx, miny, maxx, maxy))\n",
    "\n",
    "    return tiles"
   ]
  },
  {
   "cell_type": "code",
   "execution_count": 7,
   "metadata": {},
   "outputs": [
    {
     "data": {
      "text/plain": [
       "[(551406.3437000001, 4774340.409, 557746.7466000002, 4780465.103),\n",
       " (551406.3437000001, 4780465.103, 557746.7466000002, 4786589.797)]"
      ]
     },
     "execution_count": 7,
     "metadata": {},
     "output_type": "execute_result"
    }
   ],
   "source": [
    "# Run the function\n",
    "tiles = split_bbox(bbox, spatial_resolution, max_size)\n",
    "\n",
    "# Check the new bounding boxes\n",
    "tiles"
   ]
  },
  {
   "cell_type": "markdown",
   "metadata": {},
   "source": [
    "We see that with the parameters provided the polygon has been split in two smaller tiles."
   ]
  },
  {
   "cell_type": "markdown",
   "metadata": {},
   "source": [
    "## 2. WMS connection and tiles download"
   ]
  },
  {
   "cell_type": "markdown",
   "metadata": {},
   "source": [
    "Now it's time to make the WMS connection and download the tiles with the resolution and size defined above."
   ]
  },
  {
   "cell_type": "code",
   "execution_count": 8,
   "metadata": {},
   "outputs": [],
   "source": [
    "# WMS connection\n",
    "wms = WebMapService(parameters.wms_url, version='1.3.0')"
   ]
  },
  {
   "cell_type": "code",
   "execution_count": 9,
   "metadata": {},
   "outputs": [
    {
     "name": "stdout",
     "output_type": "stream",
     "text": [
      "Identifier ORTO_EGUNERATUENA_MAS_ACTUALIZADA, Title: ORTO_EGUNERATUENA_MAS_ACTUALIZADA\n",
      "Identifier ORTO_2023, Title: ORTO_2023\n",
      "Identifier ORTO_2023_IrRG, Title: ORTO_2023_IrRG\n",
      "Identifier ORTO_2022, Title: ORTO_2022\n",
      "Identifier ORTO_2022_IrRG, Title: ORTO_2022_IrRG\n",
      "Identifier ORTO_2021_IrRG, Title: ORTO_2021_IrRG\n",
      "Identifier ORTO_2021, Title: ORTO_2021\n",
      "Identifier ORTO_2020_IrRG, Title: ORTO_2020_IrRG\n",
      "Identifier ORTO_2020, Title: ORTO_2020\n",
      "Identifier ORTO_2019_COSTA, Title: ORTO_2019_COSTA\n",
      "Identifier ORTO_2019_COSTA_IrRG, Title: ORTO_2019_COSTA_IrRG\n",
      "Identifier ORTO_2019_IrRG, Title: ORTO_2019_IrRG\n",
      "Identifier ORTO_2019, Title: ORTO_2019\n",
      "Identifier ORTO_2018_IrRG, Title: ORTO_2018_IrRG\n",
      "Identifier ORTO_2018, Title: ORTO_2018\n",
      "Identifier ORTO_2017_IrRG, Title: ORTO_2017_IrRG\n",
      "Identifier ORTO_2017, Title: ORTO_2017\n",
      "Identifier ORTO_URBANA_2017, Title: ORTO_URBANA_2017\n",
      "Identifier ORTO_2016_IrRG, Title: ORTO_2016_IrRG\n",
      "Identifier ORTO_2016, Title: ORTO_2016\n",
      "Identifier ORTO_2015_IrRG, Title: ORTO_2015_IrRG\n",
      "Identifier ORTO_2015, Title: ORTO_2015\n",
      "Identifier ORTO_2014_IrRG, Title: ORTO_2014_IrRG\n",
      "Identifier ORTO_2014, Title: ORTO_2014\n",
      "Identifier ORTO_2013_IrRG, Title: ORTO_2013_IrRG\n",
      "Identifier ORTO_2013, Title: ORTO_2013\n",
      "Identifier ORTO_2012_IrRG, Title: ORTO_2012_IrRG\n",
      "Identifier ORTO_2012, Title: ORTO_2012\n",
      "Identifier ORTO_2011_IrRG, Title: ORTO_2011_IrRG\n",
      "Identifier ORTO_2011, Title: ORTO_2011\n",
      "Identifier ORTO_2010_IrRG, Title: ORTO_2010_IrRG\n",
      "Identifier ORTO_2010, Title: ORTO_2010\n",
      "Identifier ORTO_2009_IrRG, Title: ORTO_2009_IrRG\n",
      "Identifier ORTO_2009, Title: ORTO_2009\n",
      "Identifier ORTO_URBANA_2008_2009_IrRG, Title: ORTO_URBANA_2008_2009_IrRG\n",
      "Identifier ORTO_URBANA_2008_2009, Title: ORTO_URBANA_2008_2009\n",
      "Identifier ORTO_URBANA_2007_IrRG, Title: ORTO_URBANA_2007_IrRG\n",
      "Identifier ORTO_URBANA_2007, Title: ORTO_URBANA_2007\n",
      "Identifier ORTO_2008_IrRG, Title: ORTO_2008_IrRG\n",
      "Identifier ORTO_2008, Title: ORTO_2008\n",
      "Identifier ORTO_2007, Title: ORTO_2007\n",
      "Identifier ORTO_2007_IrRG, Title: ORTO_2007_IrRG\n",
      "Identifier ORTO_2006, Title: ORTO_2006\n",
      "Identifier ORTO_2006_IrRG, Title: ORTO_2006_IrRG\n",
      "Identifier ORTO_URBANA_3CAPITALES_2005, Title: ORTO_URBANA_3CAPITALES_2005\n",
      "Identifier ORTO_2005, Title: ORTO_2005\n",
      "Identifier ORTO_2004, Title: ORTO_2004\n",
      "Identifier ORTO_2002, Title: ORTO_2002\n",
      "Identifier ORTO_2001, Title: ORTO_2001\n",
      "Identifier ORTO_1995, Title: ORTO_1995\n",
      "Identifier ORTO_1991, Title: ORTO_1991\n",
      "Identifier ORTO_1989, Title: ORTO_1989\n",
      "Identifier ORTO_1984_85, Title: ORTO_1984_85\n",
      "Identifier ORTO_1958_ARABA, Title: ORTO_1958_ARABA\n",
      "Identifier ORTO_INTERMINISTERIAL_1977_78, Title: ORTO_INTERMINISTERIAL_1977_78\n",
      "Identifier ORTO_1956_57_AMERICANO, Title: ORTO_1956_57_AMERICANO\n",
      "Identifier ORTO_1945_46_AMERICANO, Title: ORTO_1945_46_AMERICANO\n"
     ]
    }
   ],
   "source": [
    "# Identifier and title for each layer in the service\n",
    "for layer_id, layer_info in wms.contents.items():\n",
    "    print(f\"Identifier {layer_id}, Title: {layer_info.title}\")"
   ]
  },
  {
   "cell_type": "code",
   "execution_count": 10,
   "metadata": {},
   "outputs": [],
   "source": [
    "# Making the request for each tile and save the result as a geotiff\n",
    "def download_tile(bbox, width, height, tile_id):\n",
    "    # Request\n",
    "    response = wms.getmap(\n",
    "        layers=['ORTO_EGUNERATUENA_MAS_ACTUALIZADA'],\n",
    "        bbox=bbox,\n",
    "        srs='EPSG:25830',\n",
    "        size=(width, height),\n",
    "        format='image/geotiff',\n",
    "        transparent=True\n",
    "    )\n",
    "\n",
    "    # Create tiles folder\n",
    "    if not os.path.exists(parameters.tiles_dir):\n",
    "        os.makedirs(parameters.tiles_dir)\n",
    "    \n",
    "    # Using MemoryFile and rasterio to create new rasters\n",
    "    with MemoryFile(response.read()) as memfile:\n",
    "        with memfile.open() as src:\n",
    "            # Read the raster information\n",
    "            data = src.read()\n",
    "\n",
    "            # Spatial transformation between pixels and the coordinate system\n",
    "            transform = from_bounds(bbox[0], bbox[1], bbox[2], bbox[3], width, height)\n",
    "            \n",
    "            # Output file name\n",
    "            filename = f'tile_{tile_id}.tif'\n",
    "            \n",
    "            # Save the file with all the metadata\n",
    "            with rasterio.open(\n",
    "                os.path.join(parameters.tiles_dir, filename), 'w',\n",
    "                driver='GTiff',\n",
    "                height=src.height,\n",
    "                width=src.width,\n",
    "                count=src.count,\n",
    "                dtype=src.dtypes[0],\n",
    "                crs='EPSG:25830',\n",
    "                transform=transform\n",
    "            ) as dst:\n",
    "                dst.write(data)\n",
    "    \n",
    "    return os.path.join(parameters.tiles_dir, filename)"
   ]
  },
  {
   "cell_type": "code",
   "execution_count": 11,
   "metadata": {},
   "outputs": [],
   "source": [
    "# Empty list to store all tiles names\n",
    "images = []"
   ]
  },
  {
   "cell_type": "code",
   "execution_count": 12,
   "metadata": {},
   "outputs": [
    {
     "name": "stderr",
     "output_type": "stream",
     "text": [
      "c:\\Users\\User\\miniconda3\\envs\\gis\\Lib\\site-packages\\rasterio\\io.py:138: NotGeoreferencedWarning: Dataset has no geotransform, gcps, or rpcs. The identity matrix will be returned.\n",
      "  return DatasetReader(mempath, driver=driver, sharing=sharing, **kwargs)\n"
     ]
    }
   ],
   "source": [
    "# Calculate the size for each tile and download\n",
    "for idx, tile_bbox in enumerate(tiles):\n",
    "    width_tile = int((tile_bbox[2] - tile_bbox[0]) / spatial_resolution)\n",
    "    height_tile = int((tile_bbox[3] - tile_bbox[1]) / spatial_resolution)\n",
    "    image_filename = download_tile(tile_bbox, width_tile, height_tile, idx)\n",
    "    images.append(image_filename)"
   ]
  },
  {
   "cell_type": "markdown",
   "metadata": {},
   "source": [
    "## 3. Merging the tiles"
   ]
  },
  {
   "cell_type": "markdown",
   "metadata": {},
   "source": [
    "If we want to join all the tiles and create a single final file in geotiff format we can use the following code."
   ]
  },
  {
   "cell_type": "code",
   "execution_count": 15,
   "metadata": {},
   "outputs": [],
   "source": [
    "# Merge tiles in one raster\n",
    "def merge_images(images):\n",
    "    # Read each tile\n",
    "    src_files_to_mosaic = []\n",
    "    for img in images:\n",
    "        src = rasterio.open(img)\n",
    "        src_files_to_mosaic.append(src)\n",
    "\n",
    "    # Merge\n",
    "    mosaic, out_trans = merge(src_files_to_mosaic)\n",
    "\n",
    "    # Output raster metadata\n",
    "    out_meta = src_files_to_mosaic[0].meta.copy()\n",
    "    out_meta.update({\n",
    "        \"driver\": \"GTiff\",\n",
    "        \"height\": mosaic.shape[1],\n",
    "        \"width\": mosaic.shape[2],\n",
    "        \"transform\": out_trans\n",
    "    })\n",
    "\n",
    "    # Store as a geotiff moduan gorde\n",
    "    with rasterio.open(os.path.join(parameters.tiles_dir, 'merged.tif'), 'w', **out_meta) as dest:\n",
    "        dest.write(mosaic)"
   ]
  },
  {
   "cell_type": "code",
   "execution_count": 16,
   "metadata": {},
   "outputs": [],
   "source": [
    "# Create the raster\n",
    "merge_images(images)"
   ]
  }
 ],
 "metadata": {
  "kernelspec": {
   "display_name": "gis",
   "language": "python",
   "name": "python3"
  },
  "language_info": {
   "codemirror_mode": {
    "name": "ipython",
    "version": 3
   },
   "file_extension": ".py",
   "mimetype": "text/x-python",
   "name": "python",
   "nbconvert_exporter": "python",
   "pygments_lexer": "ipython3",
   "version": "3.12.3"
  }
 },
 "nbformat": 4,
 "nbformat_minor": 2
}
