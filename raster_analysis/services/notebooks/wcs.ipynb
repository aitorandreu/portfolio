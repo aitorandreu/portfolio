{
 "cells": [
  {
   "cell_type": "markdown",
   "metadata": {},
   "source": [
    "# Raster Download and Terrain Analysis with WCS"
   ]
  },
  {
   "cell_type": "markdown",
   "metadata": {},
   "source": [
    "This notebook demonstrates a workflow for working with raster data obtained through a Web Coverage Service (WCS). Specifically, it involves the following steps:\n",
    "\n",
    "1. **Connecting and downloading raster data**: Accessing a WCS to download a raster dataset corresponding to a specific geographic extent defined by a GeoJSON file.\n",
    "2. **Generating raster derivatives**: Creating various derived products from the downloaded raster, including:\n",
    "    * Slope map\n",
    "    * Aspect map\n",
    "    * Hillshade map\n",
    "\n",
    "These derived products are useful for topographic analysis, terrain modeling, and geospatial studies in applications such as environmental, geological, and urban research. The notebook is designed to automate this workflow and streamline the analysis process."
   ]
  },
  {
   "cell_type": "markdown",
   "metadata": {},
   "source": [
    "## 1. Read in the geojson file and WCS connection"
   ]
  },
  {
   "cell_type": "markdown",
   "metadata": {},
   "source": [
    "First of all, we'll import all the libraries needed and read the geojson which stores the extension of our study area."
   ]
  },
  {
   "cell_type": "code",
   "execution_count": 1,
   "metadata": {},
   "outputs": [],
   "source": [
    "# Import libraries\n",
    "from owslib.wcs import WebCoverageService\n",
    "from osgeo import gdal\n",
    "import os\n",
    "import parameters\n",
    "import geopandas as gpd\n",
    "import glob"
   ]
  },
  {
   "cell_type": "code",
   "execution_count": 2,
   "metadata": {},
   "outputs": [],
   "source": [
    "# Read the file as a geodataframe\n",
    "polygon = gpd.read_file(parameters.input_file)"
   ]
  },
  {
   "cell_type": "code",
   "execution_count": 3,
   "metadata": {},
   "outputs": [],
   "source": [
    "# Bounding boxes of the polygon\n",
    "minx, miny, maxx, maxy = polygon.total_bounds\n",
    "\n",
    "bbox = (minx, miny, maxx, maxy)"
   ]
  },
  {
   "cell_type": "code",
   "execution_count": 4,
   "metadata": {},
   "outputs": [],
   "source": [
    "# WCS connection\n",
    "wcs = WebCoverageService(parameters.wcs_url, version='1.0.0')\n",
    "\n",
    "# Spatial Resolution\n",
    "resolution_x = 5  # 5 meters\n",
    "resolution_y = 5  # 5 meters"
   ]
  },
  {
   "cell_type": "code",
   "execution_count": 5,
   "metadata": {},
   "outputs": [
    {
     "name": "stdout",
     "output_type": "stream",
     "text": [
      "Identifier: 1, Title: MDS_LIDAR_1M_EGUNERATUENA_MAS_ACTUALIZADA\n",
      "Identifier: 2, Title: MDT_LIDAR_1M_EGUNERATUENA_MAS_ACTUALIZADA\n",
      "Identifier: 3, Title: MDT_LIDAR_5M_EGUNERATUENA_MAS_ACTUALIZADA\n",
      "Identifier: 4, Title: MDT_LIDAR_25M_EGUNERATUENA_MAS_ACTUALIZADA\n",
      "Identifier: 5, Title: ORIENTACIONES_LIDAR_25M_EGUNERATUENA_MAS_ACTUALIZADA\n",
      "Identifier: 6, Title: PENDIENTES_LIDAR_25M_EGUNERATUENA_MAS_ACTUALIZADA\n",
      "Identifier: 7, Title: MDS_LIDAR_2008_1M\n",
      "Identifier: 8, Title: MDT_LIDAR_2008_1M\n",
      "Identifier: 9, Title: MDT_LIDAR_2008_5M\n",
      "Identifier: 10, Title: MDT_LIDAR_2008_25M\n",
      "Identifier: 11, Title: MDS_LIDAR_2012_1M\n",
      "Identifier: 12, Title: MDT_LIDAR_2012_1M\n",
      "Identifier: 13, Title: MDT_LIDAR_2012_5M\n",
      "Identifier: 14, Title: MDT_LIDAR_2012_25M\n",
      "Identifier: 15, Title: MDT_LIDAR_2013_1M\n",
      "Identifier: 16, Title: MDT_LIDAR_2013_5M\n",
      "Identifier: 17, Title: MDT_LIDAR_2013_25M\n",
      "Identifier: 18, Title: MDT_LIDAR_2016_1M\n",
      "Identifier: 19, Title: MDT_LIDAR_2016_5M\n",
      "Identifier: 20, Title: MDT_LIDAR_2016_25M\n",
      "Identifier: 21, Title: MDT_LIDAR_2017_1M\n",
      "Identifier: 22, Title: MDT_LIDAR_2017_5M\n",
      "Identifier: 23, Title: MDT_LIDAR_2017_25M\n"
     ]
    }
   ],
   "source": [
    "# Identifier an title for each layer in the service\n",
    "for layer_id, layer_info in wcs.contents.items():\n",
    "    print(f\"Identifier: {layer_id}, Title: {layer_info.title}\")"
   ]
  },
  {
   "cell_type": "markdown",
   "metadata": {},
   "source": [
    "We will select the third layer, which contains the digital elevation model (DEM) with a 5 meter resolution for the entire Basque Country. It is worth mentioning that this raster was obtained through an aerial survey equipped with LiDAR."
   ]
  },
  {
   "cell_type": "code",
   "execution_count": 6,
   "metadata": {},
   "outputs": [],
   "source": [
    "# Select the layer with the local coordinate system and the resolution mentioned above\n",
    "response = wcs.getCoverage(\n",
    "    identifier='3',\n",
    "    bbox=bbox,\n",
    "    crs='EPSG:25830',\n",
    "    format='GeoTIFF',\n",
    "    resx=resolution_x,\n",
    "    resy=resolution_y,\n",
    "    timeout=180\n",
    ")"
   ]
  },
  {
   "cell_type": "code",
   "execution_count": 7,
   "metadata": {},
   "outputs": [],
   "source": [
    "# Raster path\n",
    "mdt_path = os.path.join(parameters.output_dir, 'clipped_mdt.tif')\n",
    "\n",
    "# Create the folder \n",
    "if not os.path.exists(parameters.output_dir):\n",
    "    os.makedirs(parameters.output_dir)\n",
    "\n",
    "# Store as a GeoTIFF\n",
    "with open(mdt_path, 'wb') as f:\n",
    "    f.write(response.read())"
   ]
  },
  {
   "cell_type": "markdown",
   "metadata": {},
   "source": [
    "## 2. Slope, Aspect and Hillsahed maps"
   ]
  },
  {
   "cell_type": "markdown",
   "metadata": {},
   "source": [
    "Once we clipped and download the DEM, it's time to create the derivative maps using the  ```gdal.DEMProcessing``` command. It is worth noting that this function needs to be executed twice to work correctly."
   ]
  },
  {
   "cell_type": "code",
   "execution_count": 8,
   "metadata": {},
   "outputs": [],
   "source": [
    "# Define raster directories\n",
    "slope_output_path = os.path.join(parameters.output_dir, 'slope', 'slope.tif')\n",
    "aspect_output_path = os.path.join(parameters.output_dir, 'aspect', 'aspect.tif')\n",
    "hillshade_output_path = os.path.join(parameters.output_dir, 'hillshade', 'hillshade.tif')\n",
    "\n",
    "# Create folders\n",
    "os.makedirs(os.path.dirname(slope_output_path), exist_ok=True)\n",
    "os.makedirs(os.path.dirname(aspect_output_path), exist_ok=True)\n",
    "os.makedirs(os.path.dirname(hillshade_output_path), exist_ok=True)"
   ]
  },
  {
   "cell_type": "markdown",
   "metadata": {},
   "source": [
    "### 2.1. Slope"
   ]
  },
  {
   "cell_type": "code",
   "execution_count": 9,
   "metadata": {},
   "outputs": [
    {
     "name": "stderr",
     "output_type": "stream",
     "text": [
      "c:\\Users\\User\\miniconda3\\envs\\gis\\Lib\\site-packages\\osgeo\\gdal.py:312: FutureWarning: Neither gdal.UseExceptions() nor gdal.DontUseExceptions() has been explicitly called. In GDAL 4.0, exceptions will be enabled by default.\n",
      "  warnings.warn(\n"
     ]
    }
   ],
   "source": [
    "# Read DEM using gdal\n",
    "mdt_name = os.path.join(parameters.output_dir, 'clipped_mdt.tif')\n",
    "dem = gdal.Open(mdt_name)"
   ]
  },
  {
   "cell_type": "code",
   "execution_count": 10,
   "metadata": {},
   "outputs": [],
   "source": [
    "# Slope\n",
    "slope = gdal.DEMProcessing(slope_output_path, dem, 'slope', computeEdges=True, zFactor=1)"
   ]
  },
  {
   "cell_type": "code",
   "execution_count": 11,
   "metadata": {},
   "outputs": [],
   "source": [
    "# Run the function twice\n",
    "slope = gdal.DEMProcessing(slope_output_path, dem, 'slope', computeEdges=True, zFactor=1)"
   ]
  },
  {
   "cell_type": "markdown",
   "metadata": {},
   "source": [
    "### 2.2. Aspect"
   ]
  },
  {
   "cell_type": "code",
   "execution_count": 12,
   "metadata": {},
   "outputs": [],
   "source": [
    "# Aspect\n",
    "aspect = gdal.DEMProcessing(aspect_output_path, dem, 'aspect', computeEdges=True, zFactor=1, scale=1)"
   ]
  },
  {
   "cell_type": "code",
   "execution_count": 13,
   "metadata": {},
   "outputs": [],
   "source": [
    "# Run the function twice\n",
    "aspect = gdal.DEMProcessing(aspect_output_path, dem, 'aspect', computeEdges=True, zFactor=1)"
   ]
  },
  {
   "cell_type": "markdown",
   "metadata": {},
   "source": [
    "### 2.3. Hillshade"
   ]
  },
  {
   "cell_type": "code",
   "execution_count": 14,
   "metadata": {},
   "outputs": [],
   "source": [
    "# Hillshade\n",
    "hillshade = gdal.DEMProcessing(hillshade_output_path, dem, 'hillshade', computeEdges=True, zFactor=1, altitude=45, scale=1)"
   ]
  },
  {
   "cell_type": "code",
   "execution_count": 15,
   "metadata": {},
   "outputs": [],
   "source": [
    "# Run the function twice\n",
    "hillshade = gdal.DEMProcessing(hillshade_output_path, dem, 'hillshade', computeEdges=True, zFactor=1, altitude=45, scale=1)"
   ]
  }
 ],
 "metadata": {
  "kernelspec": {
   "display_name": "gis",
   "language": "python",
   "name": "python3"
  },
  "language_info": {
   "codemirror_mode": {
    "name": "ipython",
    "version": 3
   },
   "file_extension": ".py",
   "mimetype": "text/x-python",
   "name": "python",
   "nbconvert_exporter": "python",
   "pygments_lexer": "ipython3",
   "version": "3.12.3"
  }
 },
 "nbformat": 4,
 "nbformat_minor": 2
}
